{
 "cells": [
  {
   "cell_type": "code",
   "execution_count": 0,
   "metadata": {
    "application/vnd.databricks.v1+cell": {
     "cellMetadata": {
      "byteLimit": 2048000,
      "rowLimit": 10000
     },
     "inputWidgets": {},
     "nuid": "00ac8505-0f6a-4e99-bc6f-2b7c1aa657a8",
     "showTitle": false,
     "tableResultSettingsMap": {},
     "title": ""
    }
   },
   "outputs": [],
   "source": [
    "from pyspark.sql.functions import *\n",
    "from pyspark.sql.types import *\n",
    "\n",
    "df=(spark.readStream.format(\"cloudFiles\")\n",
    "                    .option(\"cloudFiles.format\", \"csv\")    \n",
    "                    .option(\"cloudFiles.schemaLocation\", \"/Volumes/databricksinterview/source/sink/checkpoint\")\n",
    "                    .option(\"cloudFiles.schemaEvolutionMode\", \"rescue\")\n",
    "                    .load(\"/Volumes/databricksinterview/source/sourceorders\")\n",
    "\n",
    "                    .writeStream\n",
    "                    .format(\"delta\")\n",
    "                    .option(\"checkpointLocation\", \"/Volumes/databricksinterview/source/sink/checkpoint\")\n",
    "                    .trigger(availableNow=True)\n",
    "                    #.start(\"databricksinterview.source.orderstable\")\n",
    "                    .start(\"/Volumes/databricksinterview/source/sink/data/orders\")\n",
    "\n",
    "    )\n",
    "\n",
    "# \n",
    "# df=(spark.readStream.format(\"csv\")\n",
    "#         .option(\"header\",\"true\")\n",
    "#         .option(\"inferSchema\",\"true\")\n",
    "#         .load(\"/Volumes/databricksinterview/source/sourceorders\")   \n",
    "    \n",
    "#     )\n",
    "\n",
    "\n",
    "    \n"
   ]
  }
 ],
 "metadata": {
  "application/vnd.databricks.v1+notebook": {
   "computePreferences": {
    "hardware": {
     "accelerator": null,
     "gpuPoolId": null,
     "memory": null
    }
   },
   "dashboards": [],
   "environmentMetadata": {
    "base_environment": "",
    "environment_version": "2"
   },
   "inputWidgetPreferences": null,
   "language": "python",
   "notebookMetadata": {
    "pythonIndentUnit": 4
   },
   "notebookName": "autoloader",
   "widgets": {}
  },
  "language_info": {
   "name": "python"
  }
 },
 "nbformat": 4,
 "nbformat_minor": 0
}
