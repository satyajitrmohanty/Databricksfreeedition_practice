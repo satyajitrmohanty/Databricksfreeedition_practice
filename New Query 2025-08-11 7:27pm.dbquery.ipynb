{
 "cells": [
  {
   "cell_type": "code",
   "execution_count": 0,
   "metadata": {
    "application/vnd.databricks.v1+cell": {
     "cellMetadata": {
      "byteLimit": 10485760,
      "rowLimit": 1000
     },
     "inputWidgets": {},
     "nuid": "8134d7da-03e0-45cc-81e6-1dcfea953b88",
     "showTitle": false,
     "tableResultSettingsMap": {},
     "title": ""
    }
   },
   "outputs": [],
   "source": [
    "create table employee(\n",
    "  name string,\n",
    "  age int,\n",
    "  address string,\n",
    "  city string\n",
    ");\n",
    "\n",
    "insert into employee values(\"satya\",20,\"karad\",\"Pune\");\n",
    "\n",
    "select * from employee;\n"
   ]
  }
 ],
 "metadata": {
  "application/vnd.databricks.v1+notebook": {
   "computePreferences": null,
   "dashboards": [],
   "environmentMetadata": null,
   "inputWidgetPreferences": null,
   "language": "sql",
   "notebookMetadata": {
    "pythonIndentUnit": 4,
    "sqlQueryOptions": {
     "applyAutoLimit": true,
     "catalog": "databricksinterview",
     "schema": "source"
    }
   },
   "notebookName": "New Query 2025-08-11 7:27pm.dbquery.ipynb",
   "widgets": {}
  },
  "language_info": {
   "name": "sql"
  }
 },
 "nbformat": 4,
 "nbformat_minor": 0
}
